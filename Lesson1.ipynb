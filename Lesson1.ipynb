{
  "nbformat": 4,
  "nbformat_minor": 0,
  "metadata": {
    "colab": {
      "name": "Lesson1.ipynb",
      "provenance": [],
      "authorship_tag": "ABX9TyMZpCyxQz9c6Exc54uaBnpH",
      "include_colab_link": true
    },
    "kernelspec": {
      "name": "python3",
      "display_name": "Python 3"
    }
  },
  "cells": [
    {
      "cell_type": "markdown",
      "metadata": {
        "id": "view-in-github",
        "colab_type": "text"
      },
      "source": [
        "<a href=\"https://colab.research.google.com/github/monali0802/theclassofai/blob/main/Lesson1.ipynb\" target=\"_parent\"><img src=\"https://colab.research.google.com/assets/colab-badge.svg\" alt=\"Open In Colab\"/></a>"
      ]
    },
    {
      "cell_type": "markdown",
      "metadata": {
        "id": "ooHjHxRWI4zR"
      },
      "source": [
        "#Variable and String"
      ]
    },
    {
      "cell_type": "code",
      "metadata": {
        "colab": {
          "base_uri": "https://localhost:8080/"
        },
        "id": "USuJHmlUIyhn",
        "outputId": "673f2877-4fef-4105-ae1a-3137adc2bf8f"
      },
      "source": [
        "print('Welcome to the class of AI')"
      ],
      "execution_count": null,
      "outputs": [
        {
          "output_type": "stream",
          "text": [
            "Welcome to the class of AI\n"
          ],
          "name": "stdout"
        }
      ]
    },
    {
      "cell_type": "code",
      "metadata": {
        "colab": {
          "base_uri": "https://localhost:8080/"
        },
        "id": "L1Dhu0ReJK1K",
        "outputId": "c9ba5fc7-3d10-4386-986d-b13966341c98"
      },
      "source": [
        "msg = 'Welcome to the class of AI'\r\n",
        "print(msg)"
      ],
      "execution_count": null,
      "outputs": [
        {
          "output_type": "stream",
          "text": [
            "Welcome to the class of AI\n"
          ],
          "name": "stdout"
        }
      ]
    },
    {
      "cell_type": "code",
      "metadata": {
        "colab": {
          "base_uri": "https://localhost:8080/"
        },
        "id": "kzSkKOyXJSFL",
        "outputId": "b25beec5-786b-4053-aca2-d8a863d3e389"
      },
      "source": [
        "msg1 = 'Welcome to the class of AI.'\r\n",
        "msg2 = ' AI also called machine intellingence'\r\n",
        "msg = msg1+ msg2\r\n",
        "print(msg)"
      ],
      "execution_count": null,
      "outputs": [
        {
          "output_type": "stream",
          "text": [
            "Welcome to the class of AI. AI also called machine intellingence\n"
          ],
          "name": "stdout"
        }
      ]
    },
    {
      "cell_type": "markdown",
      "metadata": {
        "id": "9bA7NIO9Jk8p"
      },
      "source": [
        "#List"
      ]
    },
    {
      "cell_type": "code",
      "metadata": {
        "colab": {
          "base_uri": "https://localhost:8080/"
        },
        "id": "qtKShlYiJmf9",
        "outputId": "a65bce5b-6fc8-4d5e-8293-33dfad4a759a"
      },
      "source": [
        "cars = ['bmw', 'audi', 'toyota']\r\n",
        "print(cars)"
      ],
      "execution_count": null,
      "outputs": [
        {
          "output_type": "stream",
          "text": [
            "['bmw', 'audi', 'toyota']\n"
          ],
          "name": "stdout"
        }
      ]
    },
    {
      "cell_type": "code",
      "metadata": {
        "colab": {
          "base_uri": "https://localhost:8080/",
          "height": 35
        },
        "id": "-P3ILx2DJ296",
        "outputId": "d09c9325-d040-485f-9e97-1e563048a71a"
      },
      "source": [
        "cars[2]"
      ],
      "execution_count": null,
      "outputs": [
        {
          "output_type": "execute_result",
          "data": {
            "application/vnd.google.colaboratory.intrinsic+json": {
              "type": "string"
            },
            "text/plain": [
              "'toyota'"
            ]
          },
          "metadata": {
            "tags": []
          },
          "execution_count": 6
        }
      ]
    },
    {
      "cell_type": "code",
      "metadata": {
        "colab": {
          "base_uri": "https://localhost:8080/",
          "height": 35
        },
        "id": "r_Mry3uaJ6l5",
        "outputId": "38539f71-b926-49b0-a170-0481e30293af"
      },
      "source": [
        "cars[-2]"
      ],
      "execution_count": null,
      "outputs": [
        {
          "output_type": "execute_result",
          "data": {
            "application/vnd.google.colaboratory.intrinsic+json": {
              "type": "string"
            },
            "text/plain": [
              "'audi'"
            ]
          },
          "metadata": {
            "tags": []
          },
          "execution_count": 7
        }
      ]
    },
    {
      "cell_type": "code",
      "metadata": {
        "colab": {
          "base_uri": "https://localhost:8080/"
        },
        "id": "t8fkwRAvJ-uQ",
        "outputId": "9903303a-a299-4508-890b-1b85a0599de0"
      },
      "source": [
        "for car in cars:\r\n",
        "  print (car)"
      ],
      "execution_count": null,
      "outputs": [
        {
          "output_type": "stream",
          "text": [
            "bmw\n",
            "audi\n",
            "toyota\n"
          ],
          "name": "stdout"
        }
      ]
    },
    {
      "cell_type": "code",
      "metadata": {
        "colab": {
          "base_uri": "https://localhost:8080/"
        },
        "id": "2FCGwml8Kedz",
        "outputId": "4aad2dce-dcdb-44c5-ad4e-580c79135708"
      },
      "source": [
        "bike = []\r\n",
        "print(bike)"
      ],
      "execution_count": null,
      "outputs": [
        {
          "output_type": "stream",
          "text": [
            "[]\n"
          ],
          "name": "stdout"
        }
      ]
    },
    {
      "cell_type": "code",
      "metadata": {
        "colab": {
          "base_uri": "https://localhost:8080/"
        },
        "id": "c5UoFeaQKjVP",
        "outputId": "a6377104-2bc6-46e2-efe6-67e2279d0990"
      },
      "source": [
        "bike.append('Honda')\r\n",
        "print(bike)"
      ],
      "execution_count": null,
      "outputs": [
        {
          "output_type": "stream",
          "text": [
            "['Honda']\n"
          ],
          "name": "stdout"
        }
      ]
    },
    {
      "cell_type": "code",
      "metadata": {
        "colab": {
          "base_uri": "https://localhost:8080/"
        },
        "id": "UYyEdPIhK2ta",
        "outputId": "c0619ee0-7a13-4e76-b1c0-4c394fa3ccdd"
      },
      "source": [
        "bike.append(['yamaha','royal emfield'])\r\n",
        "print(bike)"
      ],
      "execution_count": null,
      "outputs": [
        {
          "output_type": "stream",
          "text": [
            "['Honda', ['yamaha', 'royal emfield']]\n"
          ],
          "name": "stdout"
        }
      ]
    },
    {
      "cell_type": "code",
      "metadata": {
        "id": "fiS9tH8KK-ui",
        "colab": {
          "base_uri": "https://localhost:8080/"
        },
        "outputId": "f99a8b96-d4bb-418c-a0ef-69a92d2d4248"
      },
      "source": [
        "print(bike[1][0])\r\n",
        "print(bike[1])"
      ],
      "execution_count": null,
      "outputs": [
        {
          "output_type": "stream",
          "text": [
            "yamaha\n",
            "['yamaha', 'royal emfield']\n"
          ],
          "name": "stdout"
        }
      ]
    },
    {
      "cell_type": "code",
      "metadata": {
        "colab": {
          "base_uri": "https://localhost:8080/"
        },
        "id": "rXtIh_jysqUJ",
        "outputId": "3465d03b-c855-444e-9653-b7bbdbfcd044"
      },
      "source": [
        "power = []\r\n",
        "for x in range(1,11):\r\n",
        "  power.append(x**2)\r\n",
        "\r\n",
        "print(power)"
      ],
      "execution_count": null,
      "outputs": [
        {
          "output_type": "stream",
          "text": [
            "[1, 4, 9, 16, 25, 36, 49, 64, 81, 100]\n"
          ],
          "name": "stdout"
        }
      ]
    },
    {
      "cell_type": "code",
      "metadata": {
        "colab": {
          "base_uri": "https://localhost:8080/"
        },
        "id": "_rnGIG-otPK3",
        "outputId": "f4f66108-53aa-4642-e89b-354c30ab29c7"
      },
      "source": [
        "power = []\r\n",
        "power = [x**3 for x in range(1,15)]\r\n",
        "print(power)"
      ],
      "execution_count": null,
      "outputs": [
        {
          "output_type": "stream",
          "text": [
            "[1, 8, 27, 64, 125, 216, 343, 512, 729, 1000, 1331, 1728, 2197, 2744]\n"
          ],
          "name": "stdout"
        }
      ]
    },
    {
      "cell_type": "code",
      "metadata": {
        "colab": {
          "base_uri": "https://localhost:8080/"
        },
        "id": "_OLLZZhQtm-C",
        "outputId": "9f33dbcd-1acc-4d6d-a402-6a29a395247e"
      },
      "source": [
        "power[:3]"
      ],
      "execution_count": null,
      "outputs": [
        {
          "output_type": "execute_result",
          "data": {
            "text/plain": [
              "[1, 8, 27]"
            ]
          },
          "metadata": {
            "tags": []
          },
          "execution_count": 9
        }
      ]
    },
    {
      "cell_type": "code",
      "metadata": {
        "colab": {
          "base_uri": "https://localhost:8080/"
        },
        "id": "wAwEGjQKtwDc",
        "outputId": "2349f3a9-5bed-49a7-b48b-c4e87a17e855"
      },
      "source": [
        "power[2:7]"
      ],
      "execution_count": null,
      "outputs": [
        {
          "output_type": "execute_result",
          "data": {
            "text/plain": [
              "[27, 64, 125, 216, 343]"
            ]
          },
          "metadata": {
            "tags": []
          },
          "execution_count": 10
        }
      ]
    },
    {
      "cell_type": "code",
      "metadata": {
        "colab": {
          "base_uri": "https://localhost:8080/"
        },
        "id": "zbwqQOySt1JK",
        "outputId": "c1fdefd5-1995-4a80-b24f-bf35e3f77005"
      },
      "source": [
        "power_copy = power[:]\r\n",
        "print(power_copy)"
      ],
      "execution_count": null,
      "outputs": [
        {
          "output_type": "stream",
          "text": [
            "[1, 8, 27, 64, 125, 216, 343, 512, 729, 1000, 1331, 1728, 2197, 2744]\n"
          ],
          "name": "stdout"
        }
      ]
    },
    {
      "cell_type": "markdown",
      "metadata": {
        "id": "4caXk1GBuaev"
      },
      "source": [
        "#Tuples"
      ]
    },
    {
      "cell_type": "code",
      "metadata": {
        "colab": {
          "base_uri": "https://localhost:8080/"
        },
        "id": "ZhqNF4zluZgI",
        "outputId": "0ab2b0e4-40a1-4d8a-a01e-9b24c7998adc"
      },
      "source": [
        "dim = (2,3)\r\n",
        "print(dim)"
      ],
      "execution_count": null,
      "outputs": [
        {
          "output_type": "stream",
          "text": [
            "(2, 3)\n"
          ],
          "name": "stdout"
        }
      ]
    },
    {
      "cell_type": "code",
      "metadata": {
        "colab": {
          "base_uri": "https://localhost:8080/"
        },
        "id": "iXtq4P6P2yhK",
        "outputId": "9e64f659-6b65-41fc-d898-ae267593f773"
      },
      "source": [
        "printtuple = ('apple', 'banana', 'cherry')\r\n",
        "print(printtuple)\r\n",
        "print(printtuple[1])"
      ],
      "execution_count": null,
      "outputs": [
        {
          "output_type": "stream",
          "text": [
            "('apple', 'banana', 'cherry')\n",
            "banana\n"
          ],
          "name": "stdout"
        }
      ]
    },
    {
      "cell_type": "code",
      "metadata": {
        "colab": {
          "base_uri": "https://localhost:8080/"
        },
        "id": "06FarhxP3CQs",
        "outputId": "e09e49a8-4aa4-432c-9c61-f5d6fe04ce32"
      },
      "source": [
        "x = list(printtuple)\r\n",
        "print(x)\r\n",
        "x[1] = 'mango'\r\n",
        "print(x)"
      ],
      "execution_count": null,
      "outputs": [
        {
          "output_type": "stream",
          "text": [
            "['apple', 'banana', 'cherry']\n",
            "['apple', 'mango', 'cherry']\n"
          ],
          "name": "stdout"
        }
      ]
    }
  ]
}