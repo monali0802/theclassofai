{
  "nbformat": 4,
  "nbformat_minor": 0,
  "metadata": {
    "colab": {
      "name": "Lesson2.ipynb",
      "provenance": [],
      "authorship_tag": "ABX9TyPjtCY9zhtTPgd0b1K9JzsK",
      "include_colab_link": true
    },
    "kernelspec": {
      "name": "python3",
      "display_name": "Python 3"
    }
  },
  "cells": [
    {
      "cell_type": "markdown",
      "metadata": {
        "id": "view-in-github",
        "colab_type": "text"
      },
      "source": [
        "<a href=\"https://colab.research.google.com/github/monali0802/theclassofai/blob/main/Lesson2.ipynb\" target=\"_parent\"><img src=\"https://colab.research.google.com/assets/colab-badge.svg\" alt=\"Open In Colab\"/></a>"
      ]
    },
    {
      "cell_type": "markdown",
      "metadata": {
        "id": "P3GajYWm8dN6"
      },
      "source": [
        "#If statement"
      ]
    },
    {
      "cell_type": "code",
      "metadata": {
        "colab": {
          "base_uri": "https://localhost:8080/"
        },
        "id": "MWU8CodR8aYD",
        "outputId": "c96b4fcf-6685-4398-b206-460e4c893eb5"
      },
      "source": [
        "x = 12\r\n",
        "print(x<=72)"
      ],
      "execution_count": 3,
      "outputs": [
        {
          "output_type": "stream",
          "text": [
            "True\n"
          ],
          "name": "stdout"
        }
      ]
    },
    {
      "cell_type": "code",
      "metadata": {
        "colab": {
          "base_uri": "https://localhost:8080/"
        },
        "id": "Asfb4Bdd81-0",
        "outputId": "3b213517-663f-4bfe-a443-3a887c83dda7"
      },
      "source": [
        "age = 19\r\n",
        "if age > 17:\r\n",
        "  print(\"Drive\")\r\n",
        "else:\r\n",
        "  print(\"you can't drive\")"
      ],
      "execution_count": 4,
      "outputs": [
        {
          "output_type": "stream",
          "text": [
            "Drive\n"
          ],
          "name": "stdout"
        }
      ]
    },
    {
      "cell_type": "code",
      "metadata": {
        "colab": {
          "base_uri": "https://localhost:8080/"
        },
        "id": "_87aeHYd9CUV",
        "outputId": "a4c41e36-5314-4ce4-e652-53689fb3da9d"
      },
      "source": [
        "age = 2\r\n",
        "if age >= 18:\r\n",
        "  print(\"You can watch\")\r\n",
        "elif age >= 12 and age <= 18:\r\n",
        "  print(\"You can watch with someone\")\r\n",
        "else:\r\n",
        "  print(\"you can't watch movie\")"
      ],
      "execution_count": 6,
      "outputs": [
        {
          "output_type": "stream",
          "text": [
            "you can't watch movie\n"
          ],
          "name": "stdout"
        }
      ]
    },
    {
      "cell_type": "code",
      "metadata": {
        "colab": {
          "base_uri": "https://localhost:8080/"
        },
        "id": "ywv7jI2N9pyf",
        "outputId": "e3791f95-b967-4390-fe5e-604175758eaa"
      },
      "source": [
        "age = int(input(\"What's your age in years please?\"))\r\n",
        "if age >= 18:\r\n",
        "  print(\"You can watch\")\r\n",
        "elif age >= 12 and age <= 18:\r\n",
        "  print(\"You can watch with someone\")\r\n",
        "else:\r\n",
        "  print(\"you can't watch movie\")"
      ],
      "execution_count": 9,
      "outputs": [
        {
          "output_type": "stream",
          "text": [
            "What's your age in years please?15\n",
            "You can watch with adult\n"
          ],
          "name": "stdout"
        }
      ]
    },
    {
      "cell_type": "markdown",
      "metadata": {
        "id": "Hj9Rli3M-E0i"
      },
      "source": [
        "#While Loop"
      ]
    },
    {
      "cell_type": "code",
      "metadata": {
        "colab": {
          "base_uri": "https://localhost:8080/"
        },
        "id": "uVXrMPdc-HPw",
        "outputId": "5889549d-fe6a-48dc-b055-ad7aab78a096"
      },
      "source": [
        "i = 1\r\n",
        "while i <= 4:\r\n",
        "  print(i)\r\n",
        "  i += 1"
      ],
      "execution_count": 11,
      "outputs": [
        {
          "output_type": "stream",
          "text": [
            "1\n",
            "2\n",
            "3\n",
            "4\n"
          ],
          "name": "stdout"
        }
      ]
    },
    {
      "cell_type": "code",
      "metadata": {
        "colab": {
          "base_uri": "https://localhost:8080/"
        },
        "id": "iSXZ9GfY_A6q",
        "outputId": "f9c06e06-33e1-4659-d782-c78fb80faffc"
      },
      "source": [
        "i = 1\r\n",
        "while i < 10:\r\n",
        "  print(i)\r\n",
        "  if i == 5:\r\n",
        "    break;\r\n",
        "  i += 1"
      ],
      "execution_count": 12,
      "outputs": [
        {
          "output_type": "stream",
          "text": [
            "1\n",
            "2\n",
            "3\n",
            "4\n",
            "5\n"
          ],
          "name": "stdout"
        }
      ]
    },
    {
      "cell_type": "code",
      "metadata": {
        "colab": {
          "base_uri": "https://localhost:8080/"
        },
        "id": "RX3dzGFS_MZb",
        "outputId": "5d198955-a0f9-45b6-f695-edde8c7e5e41"
      },
      "source": [
        "i = 0\r\n",
        "while i < 10:\r\n",
        "  i += 1\r\n",
        "  if i == 5:\r\n",
        "    continue;\r\n",
        "  print(i)"
      ],
      "execution_count": 15,
      "outputs": [
        {
          "output_type": "stream",
          "text": [
            "1\n",
            "2\n",
            "3\n",
            "4\n",
            "6\n",
            "7\n",
            "8\n",
            "9\n",
            "10\n"
          ],
          "name": "stdout"
        }
      ]
    },
    {
      "cell_type": "markdown",
      "metadata": {
        "id": "21coBBiF_c1C"
      },
      "source": [
        "#For Loop"
      ]
    },
    {
      "cell_type": "code",
      "metadata": {
        "colab": {
          "base_uri": "https://localhost:8080/"
        },
        "id": "coY9_LAC_chL",
        "outputId": "2062c2a2-9ad2-4f6a-b98e-ec54d0dbe986"
      },
      "source": [
        "cars = ['Bmw', 'Toyota', 'Audi', 'Kia', 'Honda']\r\n",
        "for x in cars:\r\n",
        "  print(x)"
      ],
      "execution_count": 16,
      "outputs": [
        {
          "output_type": "stream",
          "text": [
            "Bmw\n",
            "Toyota\n",
            "Audi\n",
            "Kia\n",
            "Honda\n"
          ],
          "name": "stdout"
        }
      ]
    },
    {
      "cell_type": "code",
      "metadata": {
        "colab": {
          "base_uri": "https://localhost:8080/"
        },
        "id": "NnpKaa66_-CX",
        "outputId": "cb17fcf7-806a-4e34-f4de-4a1353296b5c"
      },
      "source": [
        "for x in \"Toyota\":\r\n",
        "  print(x)"
      ],
      "execution_count": 17,
      "outputs": [
        {
          "output_type": "stream",
          "text": [
            "T\n",
            "o\n",
            "y\n",
            "o\n",
            "t\n",
            "a\n"
          ],
          "name": "stdout"
        }
      ]
    },
    {
      "cell_type": "code",
      "metadata": {
        "colab": {
          "base_uri": "https://localhost:8080/"
        },
        "id": "XPixUc5oAGp0",
        "outputId": "e21e4d68-ee65-4d9e-bf35-6188ce0a1d36"
      },
      "source": [
        "cars = ['Bmw', 'Toyota', 'Audi', 'Kia', 'Honda']\r\n",
        "for x in cars:\r\n",
        "  print(x)\r\n",
        "  if x == 'Audi':\r\n",
        "    break\r\n",
        "    "
      ],
      "execution_count": 18,
      "outputs": [
        {
          "output_type": "stream",
          "text": [
            "Bmw\n",
            "Toyota\n",
            "Audi\n"
          ],
          "name": "stdout"
        }
      ]
    },
    {
      "cell_type": "code",
      "metadata": {
        "colab": {
          "base_uri": "https://localhost:8080/"
        },
        "id": "RYS4ORayAW2W",
        "outputId": "662dbd74-d7cc-45e6-e9d3-892313867b96"
      },
      "source": [
        "cars = ['Bmw', 'Toyota', 'Audi', 'Kia', 'Honda']\r\n",
        "for x in cars:\r\n",
        "  \r\n",
        "  if x == 'Audi':\r\n",
        "    continue\r\n",
        "  \r\n",
        "  print(x)"
      ],
      "execution_count": 21,
      "outputs": [
        {
          "output_type": "stream",
          "text": [
            "Bmw\n",
            "Toyota\n",
            "Kia\n",
            "Honda\n"
          ],
          "name": "stdout"
        }
      ]
    },
    {
      "cell_type": "code",
      "metadata": {
        "colab": {
          "base_uri": "https://localhost:8080/"
        },
        "id": "z2HxNwlBBapn",
        "outputId": "1bf2780e-b1f4-41c1-fe59-7afc255b56ed"
      },
      "source": [
        "for x in range(6):\r\n",
        "  print(x)"
      ],
      "execution_count": 22,
      "outputs": [
        {
          "output_type": "stream",
          "text": [
            "0\n",
            "1\n",
            "2\n",
            "3\n",
            "4\n",
            "5\n"
          ],
          "name": "stdout"
        }
      ]
    },
    {
      "cell_type": "code",
      "metadata": {
        "colab": {
          "base_uri": "https://localhost:8080/"
        },
        "id": "G0VmYTjWBfsx",
        "outputId": "3e2caa3a-0829-4a34-edc9-bd33517e512a"
      },
      "source": [
        "for x in range(3,6):\r\n",
        "  print(x)"
      ],
      "execution_count": 23,
      "outputs": [
        {
          "output_type": "stream",
          "text": [
            "3\n",
            "4\n",
            "5\n"
          ],
          "name": "stdout"
        }
      ]
    },
    {
      "cell_type": "code",
      "metadata": {
        "colab": {
          "base_uri": "https://localhost:8080/"
        },
        "id": "DIdY3aSmBktg",
        "outputId": "05a520d9-fdc6-4da4-e60d-52acd520e862"
      },
      "source": [
        "for x in range(6):\r\n",
        "  print(x)\r\n",
        "else:\r\n",
        "  print(\"finish\")"
      ],
      "execution_count": 24,
      "outputs": [
        {
          "output_type": "stream",
          "text": [
            "0\n",
            "1\n",
            "2\n",
            "3\n",
            "4\n",
            "5\n",
            "finish\n"
          ],
          "name": "stdout"
        }
      ]
    },
    {
      "cell_type": "code",
      "metadata": {
        "colab": {
          "base_uri": "https://localhost:8080/"
        },
        "id": "Wh2QYSdVBvVl",
        "outputId": "824f2c11-8f98-44f0-8099-0718f019f6bd"
      },
      "source": [
        "cars = ['Bmw', 'Toyota', 'Audi', 'Kia', 'Honda']\r\n",
        "bike = ['Honda', 'Yamaha']\r\n",
        "for x in cars:\r\n",
        "  for y in bike:\r\n",
        "    print(x,y)"
      ],
      "execution_count": 25,
      "outputs": [
        {
          "output_type": "stream",
          "text": [
            "Bmw Honda\n",
            "Bmw Yamaha\n",
            "Toyota Honda\n",
            "Toyota Yamaha\n",
            "Audi Honda\n",
            "Audi Yamaha\n",
            "Kia Honda\n",
            "Kia Yamaha\n",
            "Honda Honda\n",
            "Honda Yamaha\n"
          ],
          "name": "stdout"
        }
      ]
    }
  ]
}